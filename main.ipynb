{
 "cells": [
  {
   "cell_type": "code",
   "execution_count": 2,
   "id": "4c4e265f",
   "metadata": {},
   "outputs": [],
   "source": [
    "import pandas as pd"
   ]
  },
  {
   "cell_type": "markdown",
   "id": "07edd475",
   "metadata": {},
   "source": [
    "Read CSV File"
   ]
  },
  {
   "cell_type": "code",
   "execution_count": 3,
   "id": "32edfe5b",
   "metadata": {},
   "outputs": [],
   "source": [
    "df=pd.read_csv(\"adult.data.csv\")"
   ]
  },
  {
   "cell_type": "markdown",
   "id": "538bc212",
   "metadata": {},
   "source": [
    "How many people of each race are represented in this dataset? This should be a Pandas series with race names as the index labels. (race column)"
   ]
  },
  {
   "cell_type": "code",
   "execution_count": 41,
   "id": "c96f94ef",
   "metadata": {},
   "outputs": [],
   "source": [
    "race_count=df[\"race\"].value_counts()"
   ]
  },
  {
   "cell_type": "code",
   "execution_count": 42,
   "id": "9f27154c",
   "metadata": {},
   "outputs": [
    {
     "data": {
      "text/plain": [
       "White                 27816\n",
       "Black                  3124\n",
       "Asian-Pac-Islander     1039\n",
       "Amer-Indian-Eskimo      311\n",
       "Other                   271\n",
       "Name: race, dtype: int64"
      ]
     },
     "execution_count": 42,
     "metadata": {},
     "output_type": "execute_result"
    }
   ],
   "source": [
    "race_count"
   ]
  },
  {
   "cell_type": "markdown",
   "id": "8f1966c0",
   "metadata": {},
   "source": [
    "Average age of men"
   ]
  },
  {
   "cell_type": "code",
   "execution_count": 6,
   "id": "6181f7dc",
   "metadata": {},
   "outputs": [],
   "source": [
    "average_age_men=df[df[\"sex\"]==\"Male\"][\"age\"].mean()"
   ]
  },
  {
   "cell_type": "code",
   "execution_count": 8,
   "id": "7e95fcdb",
   "metadata": {},
   "outputs": [
    {
     "data": {
      "text/plain": [
       "39.43354749885268"
      ]
     },
     "execution_count": 8,
     "metadata": {},
     "output_type": "execute_result"
    }
   ],
   "source": [
    "average_age_men"
   ]
  },
  {
   "cell_type": "markdown",
   "id": "7db9dd0d",
   "metadata": {},
   "source": [
    "Percentage of people who have a Bachelor's Degree"
   ]
  },
  {
   "cell_type": "code",
   "execution_count": 9,
   "id": "9527df65",
   "metadata": {},
   "outputs": [],
   "source": [
    "percentage_bachelors=(len(df[df[\"education\"]==\"Bachelors\"])/len(df))*100"
   ]
  },
  {
   "cell_type": "code",
   "execution_count": 10,
   "id": "8893e095",
   "metadata": {},
   "outputs": [
    {
     "data": {
      "text/plain": [
       "16.44605509658794"
      ]
     },
     "execution_count": 10,
     "metadata": {},
     "output_type": "execute_result"
    }
   ],
   "source": [
    "percentage_bachelors"
   ]
  },
  {
   "cell_type": "markdown",
   "id": "50b8048b",
   "metadata": {},
   "source": [
    "Percentage of people with Advanced Education (Bachelors, Masters, or Doctorate) and who make more than 50K"
   ]
  },
  {
   "cell_type": "code",
   "execution_count": 11,
   "id": "863f0099",
   "metadata": {},
   "outputs": [],
   "source": [
    "educated_groups=[df[df[\"education\"]==\"Bachelors\"],df[df[\"education\"]==\"Masters\"],df[df[\"education\"]==\"Docatrate\"]]"
   ]
  },
  {
   "cell_type": "code",
   "execution_count": 12,
   "id": "128e4f29",
   "metadata": {},
   "outputs": [
    {
     "data": {
      "text/plain": [
       "[       age         workclass  fnlwgt  education  education-num  \\\n",
       " 0       39         State-gov   77516  Bachelors             13   \n",
       " 1       50  Self-emp-not-inc   83311  Bachelors             13   \n",
       " 4       28           Private  338409  Bachelors             13   \n",
       " 9       42           Private  159449  Bachelors             13   \n",
       " 11      30         State-gov  141297  Bachelors             13   \n",
       " ...    ...               ...     ...        ...            ...   \n",
       " 32530   35                 ?  320084  Bachelors             13   \n",
       " 32531   30                 ?   33811  Bachelors             13   \n",
       " 32533   54           Private  337992  Bachelors             13   \n",
       " 32536   34           Private  160216  Bachelors             13   \n",
       " 32538   38           Private  139180  Bachelors             13   \n",
       " \n",
       "            marital-status       occupation   relationship                race  \\\n",
       " 0           Never-married     Adm-clerical  Not-in-family               White   \n",
       " 1      Married-civ-spouse  Exec-managerial        Husband               White   \n",
       " 4      Married-civ-spouse   Prof-specialty           Wife               Black   \n",
       " 9      Married-civ-spouse  Exec-managerial        Husband               White   \n",
       " 11     Married-civ-spouse   Prof-specialty        Husband  Asian-Pac-Islander   \n",
       " ...                   ...              ...            ...                 ...   \n",
       " 32530  Married-civ-spouse                ?           Wife               White   \n",
       " 32531       Never-married                ?  Not-in-family  Asian-Pac-Islander   \n",
       " 32533  Married-civ-spouse  Exec-managerial        Husband  Asian-Pac-Islander   \n",
       " 32536       Never-married  Exec-managerial  Not-in-family               White   \n",
       " 32538            Divorced   Prof-specialty      Unmarried               Black   \n",
       " \n",
       "           sex  capital-gain  capital-loss  hours-per-week native-country  \\\n",
       " 0        Male          2174             0              40  United-States   \n",
       " 1        Male             0             0              13  United-States   \n",
       " 4      Female             0             0              40           Cuba   \n",
       " 9        Male          5178             0              40  United-States   \n",
       " 11       Male             0             0              40          India   \n",
       " ...       ...           ...           ...             ...            ...   \n",
       " 32530  Female             0             0              55  United-States   \n",
       " 32531  Female             0             0              99  United-States   \n",
       " 32533    Male             0             0              50          Japan   \n",
       " 32536  Female             0             0              55  United-States   \n",
       " 32538  Female         15020             0              45  United-States   \n",
       " \n",
       "       salary  \n",
       " 0      <=50K  \n",
       " 1      <=50K  \n",
       " 4      <=50K  \n",
       " 9       >50K  \n",
       " 11      >50K  \n",
       " ...      ...  \n",
       " 32530   >50K  \n",
       " 32531  <=50K  \n",
       " 32533   >50K  \n",
       " 32536   >50K  \n",
       " 32538   >50K  \n",
       " \n",
       " [5355 rows x 15 columns],\n",
       "        age         workclass  fnlwgt education  education-num  \\\n",
       " 5       37           Private  284582   Masters             14   \n",
       " 8       31           Private   45781   Masters             14   \n",
       " 19      43  Self-emp-not-inc  292175   Masters             14   \n",
       " 47      44           Private  128354   Masters             14   \n",
       " 87      33           Private  202051   Masters             14   \n",
       " ...    ...               ...     ...       ...            ...   \n",
       " 32504   50           Private  208630   Masters             14   \n",
       " 32513   46           Private   42972   Masters             14   \n",
       " 32544   31           Private  199655   Masters             14   \n",
       " 32553   32           Private  116138   Masters             14   \n",
       " 32554   53           Private  321865   Masters             14   \n",
       " \n",
       "            marital-status       occupation   relationship                race  \\\n",
       " 5      Married-civ-spouse  Exec-managerial           Wife               White   \n",
       " 8           Never-married   Prof-specialty  Not-in-family               White   \n",
       " 19               Divorced  Exec-managerial      Unmarried               White   \n",
       " 47               Divorced  Exec-managerial      Unmarried               White   \n",
       " 87     Married-civ-spouse   Prof-specialty        Husband               White   \n",
       " ...                   ...              ...            ...                 ...   \n",
       " 32504            Divorced            Sales  Not-in-family               White   \n",
       " 32513  Married-civ-spouse   Prof-specialty           Wife               White   \n",
       " 32544            Divorced    Other-service  Not-in-family               Other   \n",
       " 32553       Never-married     Tech-support  Not-in-family  Asian-Pac-Islander   \n",
       " 32554  Married-civ-spouse  Exec-managerial        Husband               White   \n",
       " \n",
       "           sex  capital-gain  capital-loss  hours-per-week native-country  \\\n",
       " 5      Female             0             0              40  United-States   \n",
       " 8      Female         14084             0              50  United-States   \n",
       " 19     Female             0             0              45  United-States   \n",
       " 47     Female             0             0              40  United-States   \n",
       " 87       Male             0             0              50  United-States   \n",
       " ...       ...           ...           ...             ...            ...   \n",
       " 32504  Female             0             0              50  United-States   \n",
       " 32513  Female             0             0              22  United-States   \n",
       " 32544  Female             0             0              30  United-States   \n",
       " 32553    Male             0             0              11         Taiwan   \n",
       " 32554    Male             0             0              40  United-States   \n",
       " \n",
       "       salary  \n",
       " 5      <=50K  \n",
       " 8       >50K  \n",
       " 19      >50K  \n",
       " 47     <=50K  \n",
       " 87     <=50K  \n",
       " ...      ...  \n",
       " 32504   >50K  \n",
       " 32513   >50K  \n",
       " 32544  <=50K  \n",
       " 32553  <=50K  \n",
       " 32554   >50K  \n",
       " \n",
       " [1723 rows x 15 columns],\n",
       " Empty DataFrame\n",
       " Columns: [age, workclass, fnlwgt, education, education-num, marital-status, occupation, relationship, race, sex, capital-gain, capital-loss, hours-per-week, native-country, salary]\n",
       " Index: []]"
      ]
     },
     "execution_count": 12,
     "metadata": {},
     "output_type": "execute_result"
    }
   ],
   "source": [
    "educated_groups"
   ]
  },
  {
   "cell_type": "code",
   "execution_count": 13,
   "id": "6ac1bf1f",
   "metadata": {},
   "outputs": [],
   "source": [
    "educated_groups=pd.concat(educated_groups)"
   ]
  },
  {
   "cell_type": "code",
   "execution_count": 14,
   "id": "4fb2386f",
   "metadata": {},
   "outputs": [
    {
     "data": {
      "text/html": [
       "<div>\n",
       "<style scoped>\n",
       "    .dataframe tbody tr th:only-of-type {\n",
       "        vertical-align: middle;\n",
       "    }\n",
       "\n",
       "    .dataframe tbody tr th {\n",
       "        vertical-align: top;\n",
       "    }\n",
       "\n",
       "    .dataframe thead th {\n",
       "        text-align: right;\n",
       "    }\n",
       "</style>\n",
       "<table border=\"1\" class=\"dataframe\">\n",
       "  <thead>\n",
       "    <tr style=\"text-align: right;\">\n",
       "      <th></th>\n",
       "      <th>age</th>\n",
       "      <th>workclass</th>\n",
       "      <th>fnlwgt</th>\n",
       "      <th>education</th>\n",
       "      <th>education-num</th>\n",
       "      <th>marital-status</th>\n",
       "      <th>occupation</th>\n",
       "      <th>relationship</th>\n",
       "      <th>race</th>\n",
       "      <th>sex</th>\n",
       "      <th>capital-gain</th>\n",
       "      <th>capital-loss</th>\n",
       "      <th>hours-per-week</th>\n",
       "      <th>native-country</th>\n",
       "      <th>salary</th>\n",
       "    </tr>\n",
       "  </thead>\n",
       "  <tbody>\n",
       "    <tr>\n",
       "      <th>0</th>\n",
       "      <td>39</td>\n",
       "      <td>State-gov</td>\n",
       "      <td>77516</td>\n",
       "      <td>Bachelors</td>\n",
       "      <td>13</td>\n",
       "      <td>Never-married</td>\n",
       "      <td>Adm-clerical</td>\n",
       "      <td>Not-in-family</td>\n",
       "      <td>White</td>\n",
       "      <td>Male</td>\n",
       "      <td>2174</td>\n",
       "      <td>0</td>\n",
       "      <td>40</td>\n",
       "      <td>United-States</td>\n",
       "      <td>&lt;=50K</td>\n",
       "    </tr>\n",
       "    <tr>\n",
       "      <th>1</th>\n",
       "      <td>50</td>\n",
       "      <td>Self-emp-not-inc</td>\n",
       "      <td>83311</td>\n",
       "      <td>Bachelors</td>\n",
       "      <td>13</td>\n",
       "      <td>Married-civ-spouse</td>\n",
       "      <td>Exec-managerial</td>\n",
       "      <td>Husband</td>\n",
       "      <td>White</td>\n",
       "      <td>Male</td>\n",
       "      <td>0</td>\n",
       "      <td>0</td>\n",
       "      <td>13</td>\n",
       "      <td>United-States</td>\n",
       "      <td>&lt;=50K</td>\n",
       "    </tr>\n",
       "    <tr>\n",
       "      <th>4</th>\n",
       "      <td>28</td>\n",
       "      <td>Private</td>\n",
       "      <td>338409</td>\n",
       "      <td>Bachelors</td>\n",
       "      <td>13</td>\n",
       "      <td>Married-civ-spouse</td>\n",
       "      <td>Prof-specialty</td>\n",
       "      <td>Wife</td>\n",
       "      <td>Black</td>\n",
       "      <td>Female</td>\n",
       "      <td>0</td>\n",
       "      <td>0</td>\n",
       "      <td>40</td>\n",
       "      <td>Cuba</td>\n",
       "      <td>&lt;=50K</td>\n",
       "    </tr>\n",
       "    <tr>\n",
       "      <th>9</th>\n",
       "      <td>42</td>\n",
       "      <td>Private</td>\n",
       "      <td>159449</td>\n",
       "      <td>Bachelors</td>\n",
       "      <td>13</td>\n",
       "      <td>Married-civ-spouse</td>\n",
       "      <td>Exec-managerial</td>\n",
       "      <td>Husband</td>\n",
       "      <td>White</td>\n",
       "      <td>Male</td>\n",
       "      <td>5178</td>\n",
       "      <td>0</td>\n",
       "      <td>40</td>\n",
       "      <td>United-States</td>\n",
       "      <td>&gt;50K</td>\n",
       "    </tr>\n",
       "    <tr>\n",
       "      <th>11</th>\n",
       "      <td>30</td>\n",
       "      <td>State-gov</td>\n",
       "      <td>141297</td>\n",
       "      <td>Bachelors</td>\n",
       "      <td>13</td>\n",
       "      <td>Married-civ-spouse</td>\n",
       "      <td>Prof-specialty</td>\n",
       "      <td>Husband</td>\n",
       "      <td>Asian-Pac-Islander</td>\n",
       "      <td>Male</td>\n",
       "      <td>0</td>\n",
       "      <td>0</td>\n",
       "      <td>40</td>\n",
       "      <td>India</td>\n",
       "      <td>&gt;50K</td>\n",
       "    </tr>\n",
       "    <tr>\n",
       "      <th>...</th>\n",
       "      <td>...</td>\n",
       "      <td>...</td>\n",
       "      <td>...</td>\n",
       "      <td>...</td>\n",
       "      <td>...</td>\n",
       "      <td>...</td>\n",
       "      <td>...</td>\n",
       "      <td>...</td>\n",
       "      <td>...</td>\n",
       "      <td>...</td>\n",
       "      <td>...</td>\n",
       "      <td>...</td>\n",
       "      <td>...</td>\n",
       "      <td>...</td>\n",
       "      <td>...</td>\n",
       "    </tr>\n",
       "    <tr>\n",
       "      <th>32504</th>\n",
       "      <td>50</td>\n",
       "      <td>Private</td>\n",
       "      <td>208630</td>\n",
       "      <td>Masters</td>\n",
       "      <td>14</td>\n",
       "      <td>Divorced</td>\n",
       "      <td>Sales</td>\n",
       "      <td>Not-in-family</td>\n",
       "      <td>White</td>\n",
       "      <td>Female</td>\n",
       "      <td>0</td>\n",
       "      <td>0</td>\n",
       "      <td>50</td>\n",
       "      <td>United-States</td>\n",
       "      <td>&gt;50K</td>\n",
       "    </tr>\n",
       "    <tr>\n",
       "      <th>32513</th>\n",
       "      <td>46</td>\n",
       "      <td>Private</td>\n",
       "      <td>42972</td>\n",
       "      <td>Masters</td>\n",
       "      <td>14</td>\n",
       "      <td>Married-civ-spouse</td>\n",
       "      <td>Prof-specialty</td>\n",
       "      <td>Wife</td>\n",
       "      <td>White</td>\n",
       "      <td>Female</td>\n",
       "      <td>0</td>\n",
       "      <td>0</td>\n",
       "      <td>22</td>\n",
       "      <td>United-States</td>\n",
       "      <td>&gt;50K</td>\n",
       "    </tr>\n",
       "    <tr>\n",
       "      <th>32544</th>\n",
       "      <td>31</td>\n",
       "      <td>Private</td>\n",
       "      <td>199655</td>\n",
       "      <td>Masters</td>\n",
       "      <td>14</td>\n",
       "      <td>Divorced</td>\n",
       "      <td>Other-service</td>\n",
       "      <td>Not-in-family</td>\n",
       "      <td>Other</td>\n",
       "      <td>Female</td>\n",
       "      <td>0</td>\n",
       "      <td>0</td>\n",
       "      <td>30</td>\n",
       "      <td>United-States</td>\n",
       "      <td>&lt;=50K</td>\n",
       "    </tr>\n",
       "    <tr>\n",
       "      <th>32553</th>\n",
       "      <td>32</td>\n",
       "      <td>Private</td>\n",
       "      <td>116138</td>\n",
       "      <td>Masters</td>\n",
       "      <td>14</td>\n",
       "      <td>Never-married</td>\n",
       "      <td>Tech-support</td>\n",
       "      <td>Not-in-family</td>\n",
       "      <td>Asian-Pac-Islander</td>\n",
       "      <td>Male</td>\n",
       "      <td>0</td>\n",
       "      <td>0</td>\n",
       "      <td>11</td>\n",
       "      <td>Taiwan</td>\n",
       "      <td>&lt;=50K</td>\n",
       "    </tr>\n",
       "    <tr>\n",
       "      <th>32554</th>\n",
       "      <td>53</td>\n",
       "      <td>Private</td>\n",
       "      <td>321865</td>\n",
       "      <td>Masters</td>\n",
       "      <td>14</td>\n",
       "      <td>Married-civ-spouse</td>\n",
       "      <td>Exec-managerial</td>\n",
       "      <td>Husband</td>\n",
       "      <td>White</td>\n",
       "      <td>Male</td>\n",
       "      <td>0</td>\n",
       "      <td>0</td>\n",
       "      <td>40</td>\n",
       "      <td>United-States</td>\n",
       "      <td>&gt;50K</td>\n",
       "    </tr>\n",
       "  </tbody>\n",
       "</table>\n",
       "<p>7078 rows × 15 columns</p>\n",
       "</div>"
      ],
      "text/plain": [
       "       age         workclass  fnlwgt  education  education-num  \\\n",
       "0       39         State-gov   77516  Bachelors             13   \n",
       "1       50  Self-emp-not-inc   83311  Bachelors             13   \n",
       "4       28           Private  338409  Bachelors             13   \n",
       "9       42           Private  159449  Bachelors             13   \n",
       "11      30         State-gov  141297  Bachelors             13   \n",
       "...    ...               ...     ...        ...            ...   \n",
       "32504   50           Private  208630    Masters             14   \n",
       "32513   46           Private   42972    Masters             14   \n",
       "32544   31           Private  199655    Masters             14   \n",
       "32553   32           Private  116138    Masters             14   \n",
       "32554   53           Private  321865    Masters             14   \n",
       "\n",
       "           marital-status       occupation   relationship                race  \\\n",
       "0           Never-married     Adm-clerical  Not-in-family               White   \n",
       "1      Married-civ-spouse  Exec-managerial        Husband               White   \n",
       "4      Married-civ-spouse   Prof-specialty           Wife               Black   \n",
       "9      Married-civ-spouse  Exec-managerial        Husband               White   \n",
       "11     Married-civ-spouse   Prof-specialty        Husband  Asian-Pac-Islander   \n",
       "...                   ...              ...            ...                 ...   \n",
       "32504            Divorced            Sales  Not-in-family               White   \n",
       "32513  Married-civ-spouse   Prof-specialty           Wife               White   \n",
       "32544            Divorced    Other-service  Not-in-family               Other   \n",
       "32553       Never-married     Tech-support  Not-in-family  Asian-Pac-Islander   \n",
       "32554  Married-civ-spouse  Exec-managerial        Husband               White   \n",
       "\n",
       "          sex  capital-gain  capital-loss  hours-per-week native-country  \\\n",
       "0        Male          2174             0              40  United-States   \n",
       "1        Male             0             0              13  United-States   \n",
       "4      Female             0             0              40           Cuba   \n",
       "9        Male          5178             0              40  United-States   \n",
       "11       Male             0             0              40          India   \n",
       "...       ...           ...           ...             ...            ...   \n",
       "32504  Female             0             0              50  United-States   \n",
       "32513  Female             0             0              22  United-States   \n",
       "32544  Female             0             0              30  United-States   \n",
       "32553    Male             0             0              11         Taiwan   \n",
       "32554    Male             0             0              40  United-States   \n",
       "\n",
       "      salary  \n",
       "0      <=50K  \n",
       "1      <=50K  \n",
       "4      <=50K  \n",
       "9       >50K  \n",
       "11      >50K  \n",
       "...      ...  \n",
       "32504   >50K  \n",
       "32513   >50K  \n",
       "32544  <=50K  \n",
       "32553  <=50K  \n",
       "32554   >50K  \n",
       "\n",
       "[7078 rows x 15 columns]"
      ]
     },
     "execution_count": 14,
     "metadata": {},
     "output_type": "execute_result"
    }
   ],
   "source": [
    "educated_groups"
   ]
  },
  {
   "cell_type": "code",
   "execution_count": 15,
   "id": "025b7a29",
   "metadata": {},
   "outputs": [],
   "source": [
    "higher_education_rich=(len(educated_groups[educated_groups[\"salary\"]==\">50K\"])/len(educated_groups))*100"
   ]
  },
  {
   "cell_type": "code",
   "execution_count": 16,
   "id": "84877a7f",
   "metadata": {},
   "outputs": [
    {
     "data": {
      "text/plain": [
       "44.9"
      ]
     },
     "execution_count": 16,
     "metadata": {},
     "output_type": "execute_result"
    }
   ],
   "source": [
    "round(higher_education_rich,1)"
   ]
  },
  {
   "cell_type": "markdown",
   "id": "2e4d033f",
   "metadata": {},
   "source": [
    "Percentage of people without Advanced Aducation and who make more than 50K"
   ]
  },
  {
   "cell_type": "code",
   "execution_count": 17,
   "id": "d609068c",
   "metadata": {},
   "outputs": [],
   "source": [
    "uneducated_groups = df[df[\"education\"] != \"Bachelors\"]"
   ]
  },
  {
   "cell_type": "code",
   "execution_count": 19,
   "id": "83e0a145",
   "metadata": {},
   "outputs": [],
   "source": [
    "uneducated_groups = uneducated_groups[uneducated_groups[\"education\"] != \"Masters\"]"
   ]
  },
  {
   "cell_type": "code",
   "execution_count": 20,
   "id": "5ba1d6dc",
   "metadata": {},
   "outputs": [],
   "source": [
    "uneducated_groups = uneducated_groups[uneducated_groups[\"education\"] != \"Doctorate\"]"
   ]
  },
  {
   "cell_type": "code",
   "execution_count": 21,
   "id": "100951c4",
   "metadata": {},
   "outputs": [],
   "source": [
    "lower_education_rich = round ( (len( uneducated_groups[uneducated_groups[\"salary\"] == \">50K\"]) / len(uneducated_groups)) * 100, 1)"
   ]
  },
  {
   "cell_type": "code",
   "execution_count": 22,
   "id": "b54edaf2",
   "metadata": {},
   "outputs": [
    {
     "data": {
      "text/html": [
       "<div>\n",
       "<style scoped>\n",
       "    .dataframe tbody tr th:only-of-type {\n",
       "        vertical-align: middle;\n",
       "    }\n",
       "\n",
       "    .dataframe tbody tr th {\n",
       "        vertical-align: top;\n",
       "    }\n",
       "\n",
       "    .dataframe thead th {\n",
       "        text-align: right;\n",
       "    }\n",
       "</style>\n",
       "<table border=\"1\" class=\"dataframe\">\n",
       "  <thead>\n",
       "    <tr style=\"text-align: right;\">\n",
       "      <th></th>\n",
       "      <th>age</th>\n",
       "      <th>workclass</th>\n",
       "      <th>fnlwgt</th>\n",
       "      <th>education</th>\n",
       "      <th>education-num</th>\n",
       "      <th>marital-status</th>\n",
       "      <th>occupation</th>\n",
       "      <th>relationship</th>\n",
       "      <th>race</th>\n",
       "      <th>sex</th>\n",
       "      <th>capital-gain</th>\n",
       "      <th>capital-loss</th>\n",
       "      <th>hours-per-week</th>\n",
       "      <th>native-country</th>\n",
       "      <th>salary</th>\n",
       "    </tr>\n",
       "  </thead>\n",
       "  <tbody>\n",
       "    <tr>\n",
       "      <th>2</th>\n",
       "      <td>38</td>\n",
       "      <td>Private</td>\n",
       "      <td>215646</td>\n",
       "      <td>HS-grad</td>\n",
       "      <td>9</td>\n",
       "      <td>Divorced</td>\n",
       "      <td>Handlers-cleaners</td>\n",
       "      <td>Not-in-family</td>\n",
       "      <td>White</td>\n",
       "      <td>Male</td>\n",
       "      <td>0</td>\n",
       "      <td>0</td>\n",
       "      <td>40</td>\n",
       "      <td>United-States</td>\n",
       "      <td>&lt;=50K</td>\n",
       "    </tr>\n",
       "    <tr>\n",
       "      <th>3</th>\n",
       "      <td>53</td>\n",
       "      <td>Private</td>\n",
       "      <td>234721</td>\n",
       "      <td>11th</td>\n",
       "      <td>7</td>\n",
       "      <td>Married-civ-spouse</td>\n",
       "      <td>Handlers-cleaners</td>\n",
       "      <td>Husband</td>\n",
       "      <td>Black</td>\n",
       "      <td>Male</td>\n",
       "      <td>0</td>\n",
       "      <td>0</td>\n",
       "      <td>40</td>\n",
       "      <td>United-States</td>\n",
       "      <td>&lt;=50K</td>\n",
       "    </tr>\n",
       "    <tr>\n",
       "      <th>6</th>\n",
       "      <td>49</td>\n",
       "      <td>Private</td>\n",
       "      <td>160187</td>\n",
       "      <td>9th</td>\n",
       "      <td>5</td>\n",
       "      <td>Married-spouse-absent</td>\n",
       "      <td>Other-service</td>\n",
       "      <td>Not-in-family</td>\n",
       "      <td>Black</td>\n",
       "      <td>Female</td>\n",
       "      <td>0</td>\n",
       "      <td>0</td>\n",
       "      <td>16</td>\n",
       "      <td>Jamaica</td>\n",
       "      <td>&lt;=50K</td>\n",
       "    </tr>\n",
       "    <tr>\n",
       "      <th>7</th>\n",
       "      <td>52</td>\n",
       "      <td>Self-emp-not-inc</td>\n",
       "      <td>209642</td>\n",
       "      <td>HS-grad</td>\n",
       "      <td>9</td>\n",
       "      <td>Married-civ-spouse</td>\n",
       "      <td>Exec-managerial</td>\n",
       "      <td>Husband</td>\n",
       "      <td>White</td>\n",
       "      <td>Male</td>\n",
       "      <td>0</td>\n",
       "      <td>0</td>\n",
       "      <td>45</td>\n",
       "      <td>United-States</td>\n",
       "      <td>&gt;50K</td>\n",
       "    </tr>\n",
       "    <tr>\n",
       "      <th>10</th>\n",
       "      <td>37</td>\n",
       "      <td>Private</td>\n",
       "      <td>280464</td>\n",
       "      <td>Some-college</td>\n",
       "      <td>10</td>\n",
       "      <td>Married-civ-spouse</td>\n",
       "      <td>Exec-managerial</td>\n",
       "      <td>Husband</td>\n",
       "      <td>Black</td>\n",
       "      <td>Male</td>\n",
       "      <td>0</td>\n",
       "      <td>0</td>\n",
       "      <td>80</td>\n",
       "      <td>United-States</td>\n",
       "      <td>&gt;50K</td>\n",
       "    </tr>\n",
       "    <tr>\n",
       "      <th>...</th>\n",
       "      <td>...</td>\n",
       "      <td>...</td>\n",
       "      <td>...</td>\n",
       "      <td>...</td>\n",
       "      <td>...</td>\n",
       "      <td>...</td>\n",
       "      <td>...</td>\n",
       "      <td>...</td>\n",
       "      <td>...</td>\n",
       "      <td>...</td>\n",
       "      <td>...</td>\n",
       "      <td>...</td>\n",
       "      <td>...</td>\n",
       "      <td>...</td>\n",
       "      <td>...</td>\n",
       "    </tr>\n",
       "    <tr>\n",
       "      <th>32556</th>\n",
       "      <td>27</td>\n",
       "      <td>Private</td>\n",
       "      <td>257302</td>\n",
       "      <td>Assoc-acdm</td>\n",
       "      <td>12</td>\n",
       "      <td>Married-civ-spouse</td>\n",
       "      <td>Tech-support</td>\n",
       "      <td>Wife</td>\n",
       "      <td>White</td>\n",
       "      <td>Female</td>\n",
       "      <td>0</td>\n",
       "      <td>0</td>\n",
       "      <td>38</td>\n",
       "      <td>United-States</td>\n",
       "      <td>&lt;=50K</td>\n",
       "    </tr>\n",
       "    <tr>\n",
       "      <th>32557</th>\n",
       "      <td>40</td>\n",
       "      <td>Private</td>\n",
       "      <td>154374</td>\n",
       "      <td>HS-grad</td>\n",
       "      <td>9</td>\n",
       "      <td>Married-civ-spouse</td>\n",
       "      <td>Machine-op-inspct</td>\n",
       "      <td>Husband</td>\n",
       "      <td>White</td>\n",
       "      <td>Male</td>\n",
       "      <td>0</td>\n",
       "      <td>0</td>\n",
       "      <td>40</td>\n",
       "      <td>United-States</td>\n",
       "      <td>&gt;50K</td>\n",
       "    </tr>\n",
       "    <tr>\n",
       "      <th>32558</th>\n",
       "      <td>58</td>\n",
       "      <td>Private</td>\n",
       "      <td>151910</td>\n",
       "      <td>HS-grad</td>\n",
       "      <td>9</td>\n",
       "      <td>Widowed</td>\n",
       "      <td>Adm-clerical</td>\n",
       "      <td>Unmarried</td>\n",
       "      <td>White</td>\n",
       "      <td>Female</td>\n",
       "      <td>0</td>\n",
       "      <td>0</td>\n",
       "      <td>40</td>\n",
       "      <td>United-States</td>\n",
       "      <td>&lt;=50K</td>\n",
       "    </tr>\n",
       "    <tr>\n",
       "      <th>32559</th>\n",
       "      <td>22</td>\n",
       "      <td>Private</td>\n",
       "      <td>201490</td>\n",
       "      <td>HS-grad</td>\n",
       "      <td>9</td>\n",
       "      <td>Never-married</td>\n",
       "      <td>Adm-clerical</td>\n",
       "      <td>Own-child</td>\n",
       "      <td>White</td>\n",
       "      <td>Male</td>\n",
       "      <td>0</td>\n",
       "      <td>0</td>\n",
       "      <td>20</td>\n",
       "      <td>United-States</td>\n",
       "      <td>&lt;=50K</td>\n",
       "    </tr>\n",
       "    <tr>\n",
       "      <th>32560</th>\n",
       "      <td>52</td>\n",
       "      <td>Self-emp-inc</td>\n",
       "      <td>287927</td>\n",
       "      <td>HS-grad</td>\n",
       "      <td>9</td>\n",
       "      <td>Married-civ-spouse</td>\n",
       "      <td>Exec-managerial</td>\n",
       "      <td>Wife</td>\n",
       "      <td>White</td>\n",
       "      <td>Female</td>\n",
       "      <td>15024</td>\n",
       "      <td>0</td>\n",
       "      <td>40</td>\n",
       "      <td>United-States</td>\n",
       "      <td>&gt;50K</td>\n",
       "    </tr>\n",
       "  </tbody>\n",
       "</table>\n",
       "<p>25070 rows × 15 columns</p>\n",
       "</div>"
      ],
      "text/plain": [
       "       age         workclass  fnlwgt     education  education-num  \\\n",
       "2       38           Private  215646       HS-grad              9   \n",
       "3       53           Private  234721          11th              7   \n",
       "6       49           Private  160187           9th              5   \n",
       "7       52  Self-emp-not-inc  209642       HS-grad              9   \n",
       "10      37           Private  280464  Some-college             10   \n",
       "...    ...               ...     ...           ...            ...   \n",
       "32556   27           Private  257302    Assoc-acdm             12   \n",
       "32557   40           Private  154374       HS-grad              9   \n",
       "32558   58           Private  151910       HS-grad              9   \n",
       "32559   22           Private  201490       HS-grad              9   \n",
       "32560   52      Self-emp-inc  287927       HS-grad              9   \n",
       "\n",
       "              marital-status         occupation   relationship   race     sex  \\\n",
       "2                   Divorced  Handlers-cleaners  Not-in-family  White    Male   \n",
       "3         Married-civ-spouse  Handlers-cleaners        Husband  Black    Male   \n",
       "6      Married-spouse-absent      Other-service  Not-in-family  Black  Female   \n",
       "7         Married-civ-spouse    Exec-managerial        Husband  White    Male   \n",
       "10        Married-civ-spouse    Exec-managerial        Husband  Black    Male   \n",
       "...                      ...                ...            ...    ...     ...   \n",
       "32556     Married-civ-spouse       Tech-support           Wife  White  Female   \n",
       "32557     Married-civ-spouse  Machine-op-inspct        Husband  White    Male   \n",
       "32558                Widowed       Adm-clerical      Unmarried  White  Female   \n",
       "32559          Never-married       Adm-clerical      Own-child  White    Male   \n",
       "32560     Married-civ-spouse    Exec-managerial           Wife  White  Female   \n",
       "\n",
       "       capital-gain  capital-loss  hours-per-week native-country salary  \n",
       "2                 0             0              40  United-States  <=50K  \n",
       "3                 0             0              40  United-States  <=50K  \n",
       "6                 0             0              16        Jamaica  <=50K  \n",
       "7                 0             0              45  United-States   >50K  \n",
       "10                0             0              80  United-States   >50K  \n",
       "...             ...           ...             ...            ...    ...  \n",
       "32556             0             0              38  United-States  <=50K  \n",
       "32557             0             0              40  United-States   >50K  \n",
       "32558             0             0              40  United-States  <=50K  \n",
       "32559             0             0              20  United-States  <=50K  \n",
       "32560         15024             0              40  United-States   >50K  \n",
       "\n",
       "[25070 rows x 15 columns]"
      ]
     },
     "execution_count": 22,
     "metadata": {},
     "output_type": "execute_result"
    }
   ],
   "source": [
    "uneducated_groups"
   ]
  },
  {
   "cell_type": "code",
   "execution_count": 23,
   "id": "96870f64",
   "metadata": {},
   "outputs": [
    {
     "data": {
      "text/plain": [
       "HS-grad         10501\n",
       "Some-college     7291\n",
       "Bachelors        5355\n",
       "Masters          1723\n",
       "Assoc-voc        1382\n",
       "11th             1175\n",
       "Assoc-acdm       1067\n",
       "10th              933\n",
       "7th-8th           646\n",
       "Prof-school       576\n",
       "9th               514\n",
       "12th              433\n",
       "Doctorate         413\n",
       "5th-6th           333\n",
       "1st-4th           168\n",
       "Preschool          51\n",
       "Name: education, dtype: int64"
      ]
     },
     "execution_count": 23,
     "metadata": {},
     "output_type": "execute_result"
    }
   ],
   "source": [
    " df.education.value_counts()"
   ]
  },
  {
   "cell_type": "markdown",
   "id": "bf862be8",
   "metadata": {},
   "source": [
    " Minimum number of hours a person works per week"
   ]
  },
  {
   "cell_type": "markdown",
   "id": "31f29444",
   "metadata": {},
   "source": [
    "Percentage of the people who work the minimum number of hours per week have a salary of more than 50K"
   ]
  },
  {
   "cell_type": "code",
   "execution_count": 24,
   "id": "fa6ad9b2",
   "metadata": {},
   "outputs": [],
   "source": [
    "min_work_hours=df[\"hours-per-week\"].min()"
   ]
  },
  {
   "cell_type": "code",
   "execution_count": 26,
   "id": "ff7ae692",
   "metadata": {},
   "outputs": [
    {
     "data": {
      "text/plain": [
       "1"
      ]
     },
     "execution_count": 26,
     "metadata": {},
     "output_type": "execute_result"
    }
   ],
   "source": [
    "min_work_hours"
   ]
  },
  {
   "cell_type": "code",
   "execution_count": 27,
   "id": "a372660b",
   "metadata": {},
   "outputs": [],
   "source": [
    "slackers = df[df[\"hours-per-week\"] == min_work_hours]"
   ]
  },
  {
   "cell_type": "code",
   "execution_count": 28,
   "id": "947eff5d",
   "metadata": {},
   "outputs": [],
   "source": [
    "num_min_workers=(len(slackers[slackers[\"salary\"]==\">50K\"])/len(slackers))*100"
   ]
  },
  {
   "cell_type": "code",
   "execution_count": 29,
   "id": "11e62f17",
   "metadata": {},
   "outputs": [
    {
     "data": {
      "text/plain": [
       "10.0"
      ]
     },
     "execution_count": 29,
     "metadata": {},
     "output_type": "execute_result"
    }
   ],
   "source": [
    "num_min_workers"
   ]
  },
  {
   "cell_type": "markdown",
   "id": "45a6054a",
   "metadata": {},
   "source": [
    "Country has the highest percentage of people that earn >50K and what is its percentage"
   ]
  },
  {
   "cell_type": "code",
   "execution_count": 30,
   "id": "cbd01d1e",
   "metadata": {},
   "outputs": [],
   "source": [
    "rich_percentage = (df[df[\"salary\"] == \">50K\"][\"native-country\"].value_counts() / df[\"native-country\"].value_counts())*100"
   ]
  },
  {
   "cell_type": "code",
   "execution_count": 31,
   "id": "3bffc43a",
   "metadata": {},
   "outputs": [
    {
     "data": {
      "text/plain": [
       "?                             25.042882\n",
       "Cambodia                      36.842105\n",
       "Canada                        32.231405\n",
       "China                         26.666667\n",
       "Columbia                       3.389831\n",
       "Cuba                          26.315789\n",
       "Dominican-Republic             2.857143\n",
       "Ecuador                       14.285714\n",
       "El-Salvador                    8.490566\n",
       "England                       33.333333\n",
       "France                        41.379310\n",
       "Germany                       32.116788\n",
       "Greece                        27.586207\n",
       "Guatemala                      4.687500\n",
       "Haiti                          9.090909\n",
       "Holand-Netherlands                  NaN\n",
       "Honduras                       7.692308\n",
       "Hong                          30.000000\n",
       "Hungary                       23.076923\n",
       "India                         40.000000\n",
       "Iran                          41.860465\n",
       "Ireland                       20.833333\n",
       "Italy                         34.246575\n",
       "Jamaica                       12.345679\n",
       "Japan                         38.709677\n",
       "Laos                          11.111111\n",
       "Mexico                         5.132193\n",
       "Nicaragua                      5.882353\n",
       "Outlying-US(Guam-USVI-etc)          NaN\n",
       "Peru                           6.451613\n",
       "Philippines                   30.808081\n",
       "Poland                        20.000000\n",
       "Portugal                      10.810811\n",
       "Puerto-Rico                   10.526316\n",
       "Scotland                      25.000000\n",
       "South                         20.000000\n",
       "Taiwan                        39.215686\n",
       "Thailand                      16.666667\n",
       "Trinadad&Tobago               10.526316\n",
       "United-States                 24.583476\n",
       "Vietnam                        7.462687\n",
       "Yugoslavia                    37.500000\n",
       "Name: native-country, dtype: float64"
      ]
     },
     "execution_count": 31,
     "metadata": {},
     "output_type": "execute_result"
    }
   ],
   "source": [
    "rich_percentage"
   ]
  },
  {
   "cell_type": "code",
   "execution_count": 32,
   "id": "e5036816",
   "metadata": {},
   "outputs": [],
   "source": [
    "highest_earning_country = rich_percentage.idxmax()"
   ]
  },
  {
   "cell_type": "code",
   "execution_count": 33,
   "id": "43e8f368",
   "metadata": {},
   "outputs": [
    {
     "data": {
      "text/plain": [
       "'Iran'"
      ]
     },
     "execution_count": 33,
     "metadata": {},
     "output_type": "execute_result"
    }
   ],
   "source": [
    "highest_earning_country"
   ]
  },
  {
   "cell_type": "code",
   "execution_count": 34,
   "id": "c8775af2",
   "metadata": {},
   "outputs": [],
   "source": [
    "highest_earning_country_percentage = round(rich_percentage.max(), 1)"
   ]
  },
  {
   "cell_type": "code",
   "execution_count": 35,
   "id": "e6afe043",
   "metadata": {},
   "outputs": [
    {
     "data": {
      "text/plain": [
       "41.9"
      ]
     },
     "execution_count": 35,
     "metadata": {},
     "output_type": "execute_result"
    }
   ],
   "source": [
    "highest_earning_country_percentage"
   ]
  },
  {
   "cell_type": "markdown",
   "id": "74000d88",
   "metadata": {},
   "source": [
    " Most popular occupation for those who earn >50K in India"
   ]
  },
  {
   "cell_type": "code",
   "execution_count": 36,
   "id": "5d68b175",
   "metadata": {},
   "outputs": [],
   "source": [
    "rich_indians = df[df[\"native-country\"] == \"India\"]"
   ]
  },
  {
   "cell_type": "code",
   "execution_count": 37,
   "id": "777bbb8c",
   "metadata": {},
   "outputs": [],
   "source": [
    "rich_indians = rich_indians[rich_indians[\"salary\"] == \">50K\"]    "
   ]
  },
  {
   "cell_type": "code",
   "execution_count": 38,
   "id": "332547e5",
   "metadata": {},
   "outputs": [],
   "source": [
    "top_IN_occupation = rich_indians['occupation'].value_counts().idxmax()"
   ]
  },
  {
   "cell_type": "code",
   "execution_count": 39,
   "id": "afd8effe",
   "metadata": {},
   "outputs": [
    {
     "data": {
      "text/plain": [
       "'Prof-specialty'"
      ]
     },
     "execution_count": 39,
     "metadata": {},
     "output_type": "execute_result"
    }
   ],
   "source": [
    "top_IN_occupation"
   ]
  },
  {
   "cell_type": "markdown",
   "id": "6496c366",
   "metadata": {},
   "source": [
    "#### Results"
   ]
  },
  {
   "cell_type": "code",
   "execution_count": 44,
   "id": "bd7c9f2e",
   "metadata": {},
   "outputs": [
    {
     "name": "stdout",
     "output_type": "stream",
     "text": [
      "Number of each race:\n",
      " White                 27816\n",
      "Black                  3124\n",
      "Asian-Pac-Islander     1039\n",
      "Amer-Indian-Eskimo      311\n",
      "Other                   271\n",
      "Name: race, dtype: int64\n",
      " \n",
      "Average age of men: 39.43354749885268\n",
      "Percentage with Bachelors degrees: 16.44605509658794%\n",
      "Percentage with higher education that earn >50K: 44.92794574738627%\n",
      "Percentage without higher education that earn >50K: 17.4%\n",
      "Min work time: 1 hours/week\n",
      "Percentage of rich among those who work fewest hours: ?                             25.042882\n",
      "Cambodia                      36.842105\n",
      "Canada                        32.231405\n",
      "China                         26.666667\n",
      "Columbia                       3.389831\n",
      "Cuba                          26.315789\n",
      "Dominican-Republic             2.857143\n",
      "Ecuador                       14.285714\n",
      "El-Salvador                    8.490566\n",
      "England                       33.333333\n",
      "France                        41.379310\n",
      "Germany                       32.116788\n",
      "Greece                        27.586207\n",
      "Guatemala                      4.687500\n",
      "Haiti                          9.090909\n",
      "Holand-Netherlands                  NaN\n",
      "Honduras                       7.692308\n",
      "Hong                          30.000000\n",
      "Hungary                       23.076923\n",
      "India                         40.000000\n",
      "Iran                          41.860465\n",
      "Ireland                       20.833333\n",
      "Italy                         34.246575\n",
      "Jamaica                       12.345679\n",
      "Japan                         38.709677\n",
      "Laos                          11.111111\n",
      "Mexico                         5.132193\n",
      "Nicaragua                      5.882353\n",
      "Outlying-US(Guam-USVI-etc)          NaN\n",
      "Peru                           6.451613\n",
      "Philippines                   30.808081\n",
      "Poland                        20.000000\n",
      "Portugal                      10.810811\n",
      "Puerto-Rico                   10.526316\n",
      "Scotland                      25.000000\n",
      "South                         20.000000\n",
      "Taiwan                        39.215686\n",
      "Thailand                      16.666667\n",
      "Trinadad&Tobago               10.526316\n",
      "United-States                 24.583476\n",
      "Vietnam                        7.462687\n",
      "Yugoslavia                    37.500000\n",
      "Name: native-country, dtype: float64%\n",
      "Country with highest percentage of rich: Iran\n",
      "Highest percentage of rich people in country: 41.9%\n",
      "Top occupations in India: Prof-specialty\n"
     ]
    }
   ],
   "source": [
    "print(\"Number of each RACES:\\n\", race_count) \n",
    "print(\" \")\n",
    "print(\"Average age of men:\", average_age_men)\n",
    "print(f\"Percentage with Bachelors degrees: {percentage_bachelors}%\")\n",
    "print(f\"Percentage with higher education that earn >50K: {higher_education_rich}%\")\n",
    "print(f\"Percentage without higher education that earn >50K: {lower_education_rich}%\")\n",
    "print(f\"Min work time: {min_work_hours} hours/week\")\n",
    "print(f\"Percentage of rich among those who work fewest hours: {rich_percentage}%\")\n",
    "print(\"Country with highest percentage of rich:\", highest_earning_country)\n",
    "print(f\"Highest percentage of rich people in country: {highest_earning_country_percentage}%\")\n",
    "print(\"Top occupations in India:\", top_IN_occupation)"
   ]
  },
  {
   "cell_type": "code",
   "execution_count": null,
   "id": "c96788f7",
   "metadata": {},
   "outputs": [],
   "source": []
  }
 ],
 "metadata": {
  "kernelspec": {
   "display_name": "Python 3 (ipykernel)",
   "language": "python",
   "name": "python3"
  },
  "language_info": {
   "codemirror_mode": {
    "name": "ipython",
    "version": 3
   },
   "file_extension": ".py",
   "mimetype": "text/x-python",
   "name": "python",
   "nbconvert_exporter": "python",
   "pygments_lexer": "ipython3",
   "version": "3.10.1"
  }
 },
 "nbformat": 4,
 "nbformat_minor": 5
}
